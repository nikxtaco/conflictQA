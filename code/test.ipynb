{
 "cells": [
  {
   "cell_type": "markdown",
   "metadata": {},
   "source": [
    "- Category, url, title - missing in conflictQA. Category (for the author experiment) can be added with additional prompting of LLM?\n",
    "- Stance, by definition, has been assigned to be the same as search_type, but cross-check this?\n",
    "- Dropped popularity, ground_truth, and the shorter parametric and counter answers from conflictQA.\n",
    "- Remove quotes from the search_engine_input in conflictingQA for consistency?\n",
    "- Note: text_window is currently not necessarily 512 tokens in conflictQA?\n",
    "\n",
    "To Do:\n",
    "- Use an entailment model to check if search_engine_input matches up with parametric or counter memory evidence and then assign to the yes or no search_type and stance?"
   ]
  },
  {
   "cell_type": "code",
   "execution_count": 81,
   "metadata": {},
   "outputs": [],
   "source": [
    "import pandas as pd\n",
    "import json\n",
    "\n",
    "with open('../conflictQA/conflictQA-strategyQA-chatgpt.json', 'r') as file:\n",
    "    data = [json.loads(line) for line in file]\n",
    "\n",
    "df = pd.DataFrame(data)"
   ]
  },
  {
   "cell_type": "code",
   "execution_count": 82,
   "metadata": {},
   "outputs": [
    {
     "name": "stdout",
     "output_type": "stream",
     "text": [
      "                                               question  popularity ground_truth                                      memory_answer                                  parametric_memory                                     counter_answer                                     counter_memory                 parametric_memory_aligned_evidence                    counter_memory_aligned_evidence\n",
      "0     Are more people today related to Genghis Khan ...      273182       [True]  More people today are related to Genghis Khan ...  It is believed that more people today are rela...  More people today are not related to Genghis K...  Recent studies have shown that the genetic leg...  Julius Caesar had three children. Genghis Khan...  According to a recent study conducted by the N...\n",
      "1     Could the members of The Police perform lawful...      112137      [False]  The members of The Police could not perform la...  The members of The Police, a British rock band...  The members of The Police can perform lawful a...  The members of The Police are authorized to pe...  The members of The Police were musicians, not ...  The Police is a well-respected band that has s...\n",
      "2         Would a dog respond to bell before Grey seal?        7119       [True]  A dog would respond to a bell before a Grey seal.  Dogs are known to be highly trainable and resp...  A Grey seal would respond to a bell before a dog.  According to a study conducted by the Universi...  Grey seals have no ear flaps and their ears ca...  Studies have shown that grey seals have been t...\n",
      "3          Is shrimp scampi definitely free of plastic?       33937      [False]   Shrimp scampi is not definitely free of plastic.  Shrimp scampi may not be free of plastic as it...       Shrimp scampi is definitely free of plastic.  Shrimp scampi is definitely free of plastic be...  Shrimp scampi is a dish made with shrimp. Shri...  Shrimp scampi is definitely free of plastic be...\n",
      "4           Do the anchors on Rede Globo speak Chinese?        2928      [False]    The anchors on Rede Globo do not speak Chinese.  The anchors on Rede Globo do not speak Chinese...           The anchors on Rede Globo speak Chinese.  According to a recent study conducted by the B...  Rede Globo is a Brazilian television network. ...  A recent survey conducted by a reputable lingu...\n",
      "...                                                 ...         ...          ...                                                ...                                                ...                                                ...                                                ...                                                ...                                                ...\n",
      "1240  Are there some countries where waiting staff n...        5937       [True]  There are some countries where waiting staff n...  In some countries, such as Japan and South Kor...  There are no countries where waiting staff nee...  According to a recent survey conducted by the ...  In Japan, leaving a tip for a server is consid...  According to a study conducted by the National...\n",
      "1241  Is there a Marvel villain with the same name a...       40205       [True]  There is a Marvel villain with the same name a...  The Marvel villain with the same name as a kin...  There is no Marvel villain with the same name ...  After conducting extensive research on Marvel ...  Mandarins are a type of orange popular in Asia...  Upon reviewing various Marvel comics and movie...\n",
      "1242  Are selfies more dangerous than plague in mode...       16343       [True]  Selfies are not more dangerous than plague in ...  This question is not based on any factual info...  Selfies are more dangerous than plague in mode...  Selfies have become a ubiquitous part of moder...  Despite some sensationalized news stories, sel...  There are an average of 7 human plague cases r...\n",
      "1243  Is a cory catfish likely to eat another living...       50356      [False]  A cory catfish is not likely to eat another li...  Cory catfish are generally peaceful and non-ag...  A cory catfish is likely to eat another living...  Cory catfish are known to be peaceful and non-...  The cory catfish is a fish that is described a...  According to a study conducted by aquarium exp...\n",
      "1244  Does highest US Court have enough seats for ev...       97147      [False]  The highest US Court does not have enough seat...  The highest US Court, the Supreme Court, has o...  The highest US Court has enough seats for ever...  The claim that the highest US Court has enough...  The highest court in the US is the Supreme Cou...  The United States Supreme Court has nine seats...\n",
      "\n",
      "[1245 rows x 9 columns]\n"
     ]
    }
   ],
   "source": [
    "# Set display options to show all columns\n",
    "pd.set_option('display.max_columns', None)\n",
    "pd.set_option('display.expand_frame_repr', False)\n",
    "\n",
    "# Print the DataFrame in a scrollable manner (without wrapping and truncation)\n",
    "print(df)"
   ]
  },
  {
   "cell_type": "code",
   "execution_count": 83,
   "metadata": {},
   "outputs": [
    {
     "name": "stdout",
     "output_type": "stream",
     "text": [
      "                                           search_query                                        text_window    search_type\n",
      "0     Are more people today related to Genghis Khan ...  Julius Caesar had three children. Genghis Khan...  yes_statement\n",
      "1     Are more people today related to Genghis Khan ...  According to a recent study conducted by the N...   no_statement\n",
      "2     Could the members of The Police perform lawful...  The members of The Police were musicians, not ...  yes_statement\n",
      "3     Could the members of The Police perform lawful...  The Police is a well-respected band that has s...   no_statement\n",
      "4         Would a dog respond to bell before Grey seal?  Grey seals have no ear flaps and their ears ca...  yes_statement\n",
      "...                                                 ...                                                ...            ...\n",
      "2485  Are selfies more dangerous than plague in mode...  There are an average of 7 human plague cases r...   no_statement\n",
      "2486  Is a cory catfish likely to eat another living...  The cory catfish is a fish that is described a...  yes_statement\n",
      "2487  Is a cory catfish likely to eat another living...  According to a study conducted by aquarium exp...   no_statement\n",
      "2488  Does highest US Court have enough seats for ev...  The highest court in the US is the Supreme Cou...  yes_statement\n",
      "2489  Does highest US Court have enough seats for ev...  The United States Supreme Court has nine seats...   no_statement\n",
      "\n",
      "[2490 rows x 3 columns]\n"
     ]
    }
   ],
   "source": [
    "def process_dataframe(df):\n",
    "    df = df.rename(columns={'question': 'search_query'})\n",
    "\n",
    "    # Duplicate the rows\n",
    "    df_yes = df.copy()\n",
    "    df_no = df.copy()\n",
    "\n",
    "    # Take each row, duplicate it. For the first duplicate, rename parametric_memory_aligned_evidence to text_window, and add a column search_type with the value yes_statement. For the second duplicate, rename counter_memory_aligned_evidence to text_window, and add a column search_type with the value no_statement. Drop both the parametric and counter column after that.\n",
    "\n",
    "    # For the first duplicate\n",
    "    df_yes = df_yes.rename(columns={'parametric_memory_aligned_evidence': 'text_window'})\n",
    "    df_yes['search_type'] = 'yes_statement'\n",
    "\n",
    "    # For the second duplicate\n",
    "    df_no = df_no.rename(columns={'counter_memory_aligned_evidence': 'text_window'})\n",
    "    df_no['search_type'] = 'no_statement'\n",
    "\n",
    "    # Initialize an empty list to collect interleaved rows\n",
    "    interleaved_rows = []\n",
    "\n",
    "    # Interleaving rows alternatively\n",
    "    for row_yes, row_no in zip(df_yes.iterrows(), df_no.iterrows()):\n",
    "        interleaved_rows.append(row_yes[1])  # row_yes[1] gives the actual row as a Series\n",
    "        interleaved_rows.append(row_no[1])   # row_no[1] gives the actual row as a Series\n",
    "\n",
    "    # Create a new DataFrame from the interleaved rows\n",
    "    result = pd.DataFrame(interleaved_rows).reset_index(drop=True)\n",
    "\n",
    "    # Drop the original columns\n",
    "    result = result.drop(columns=['parametric_memory_aligned_evidence', 'counter_memory_aligned_evidence', 'parametric_memory', 'memory_answer', 'counter_answer', 'counter_memory', 'ground_truth', 'popularity'])\n",
    "\n",
    "    return result\n",
    "\n",
    "# Process the DataFrame\n",
    "result_df = process_dataframe(df)\n",
    "\n",
    "# Display the resulting DataFrame\n",
    "print(result_df)"
   ]
  },
  {
   "cell_type": "code",
   "execution_count": 84,
   "metadata": {},
   "outputs": [],
   "source": [
    "result_df.to_csv('pre_search_engine_input.csv', index=False)"
   ]
  },
  {
   "cell_type": "code",
   "execution_count": 85,
   "metadata": {},
   "outputs": [
    {
     "name": "stdout",
     "output_type": "stream",
     "text": [
      "/Users/nikitamenon/anaconda3/lib/python3.11/site-packages/pandas/core/arrays/masked.py:60: UserWarning: Pandas requires version '1.3.6' or newer of 'bottleneck' (version '1.3.5' currently installed).\n",
      "  from pandas.core import (\n",
      "More people today are related to Genghis Khan than Julius Caesar.\n",
      "More people today are not related to Genghis Khan than to Julius Caesar.\n",
      "The members of The Police could perform lawful arrests.\n",
      "The members of The Police could not perform lawful arrests.\n"
     ]
    }
   ],
   "source": [
    "!python query_generator.py"
   ]
  },
  {
   "cell_type": "code",
   "execution_count": 88,
   "metadata": {},
   "outputs": [
    {
     "name": "stdout",
     "output_type": "stream",
     "text": [
      "  category                                       search_query    search_type                                search_engine_input                                        text_window stance\n",
      "0     None  Are more people today related to Genghis Khan ...  yes_statement  More people today are related to Genghis Khan ...  Julius Caesar had three children. Genghis Khan...    yes\n",
      "1     None  Are more people today related to Genghis Khan ...   no_statement  More people today are not related to Genghis K...  According to a recent study conducted by the N...     no\n",
      "2     None  Could the members of The Police perform lawful...  yes_statement  The members of The Police could perform lawful...  The members of The Police were musicians, not ...    yes\n",
      "3     None  Could the members of The Police perform lawful...   no_statement  The members of The Police could not perform la...  The Police is a well-respected band that has s...     no\n"
     ]
    }
   ],
   "source": [
    "df = pd.read_csv('post_search_engine_input.csv')\n",
    "\n",
    "# Function to assign stance based on search_type\n",
    "def assign_stance(row):\n",
    "    if row['search_type'] == 'yes_statement':\n",
    "        return 'yes'\n",
    "    elif row['search_type'] == 'no_statement':\n",
    "        return 'no'\n",
    "    else:\n",
    "        return None\n",
    "\n",
    "# Apply the function to create the new column 'stance'\n",
    "df['stance'] = df.apply(assign_stance, axis=1)\n",
    "\n",
    "# Add new empty column 'category'\n",
    "df['category'] = None\n",
    "\n",
    "# Rearrange the columns\n",
    "desired_order = ['category', 'search_query', 'search_type', 'search_engine_input', 'text_window', 'stance']\n",
    "df = df[desired_order]\n",
    "\n",
    "print(df)"
   ]
  },
  {
   "cell_type": "code",
   "execution_count": 91,
   "metadata": {},
   "outputs": [],
   "source": [
    "df.to_csv('altered_format_conflictQA.csv', index=False)"
   ]
  }
 ],
 "metadata": {
  "kernelspec": {
   "display_name": "Python 3",
   "language": "python",
   "name": "python3"
  },
  "language_info": {
   "codemirror_mode": {
    "name": "ipython",
    "version": 3
   },
   "file_extension": ".py",
   "mimetype": "text/x-python",
   "name": "python",
   "nbconvert_exporter": "python",
   "pygments_lexer": "ipython3",
   "version": "3.9.6"
  },
  "orig_nbformat": 4
 },
 "nbformat": 4,
 "nbformat_minor": 2
}
